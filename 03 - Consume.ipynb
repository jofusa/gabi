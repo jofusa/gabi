{
 "cells": [
  {
   "cell_type": "code",
   "execution_count": 1,
   "metadata": {
    "collapsed": true
   },
   "outputs": [],
   "source": [
    "docker_ip = '192.168.99.100'\n",
    "import pykafka\n",
    "client = pykafka.KafkaClient(hosts=\"{}:9092\".format(docker_ip))\n",
    "topic = client.topics['visit_log']"
   ]
  },
  {
   "cell_type": "code",
   "execution_count": 11,
   "metadata": {
    "collapsed": true
   },
   "outputs": [],
   "source": [
    "consumer = topic.get_simple_consumer()"
   ]
  },
  {
   "cell_type": "code",
   "execution_count": 3,
   "metadata": {
    "collapsed": true
   },
   "outputs": [],
   "source": [
    "from collections import Counter\n",
    "counter = Counter()"
   ]
  },
  {
   "cell_type": "code",
   "execution_count": 10,
   "metadata": {
    "collapsed": false
   },
   "outputs": [
    {
     "name": "stdout",
     "output_type": "stream",
     "text": [
      "1441415345.76 [main] INFO Index.html user:8058\n",
      "1441415345.76 [main] INFO Index.html user:2124\n",
      "1441415345.76 [main] INFO Index.html user:2376\n",
      "1441415345.76 [main] INFO Index.html user:893\n",
      "1441415345.76 [main] INFO Index.html user:7832\n",
      "1441415345.77 [main] INFO Index.html user:9749\n",
      "1441415345.77 [main] INFO Index.html user:2366\n",
      "1441415345.77 [main] INFO Index.html user:162\n",
      "1441415345.77 [main] INFO Index.html user:4139\n",
      "1441415345.77 [main] INFO Index.html user:7037\n",
      "1441415345.77 [main] INFO Index.html user:3979\n",
      "1441415345.78 [main] INFO Index.html user:2366\n",
      "1441415345.78 [main] INFO Index.html user:9639\n",
      "1441415345.78 [main] INFO Index.html user:123\n",
      "1441415345.78 [main] INFO Index.html user:8975\n",
      "1441415345.78 [main] INFO Index.html user:7841\n",
      "1441415345.79 [main] INFO Index.html user:1247\n",
      "1441415345.79 [main] INFO Index.html user:6067\n",
      "1441415345.79 [main] INFO Index.html user:3139\n",
      "1441415345.79 [main] INFO Index.html user:4939\n",
      "1441415345.79 [main] INFO Index.html user:2717\n",
      "1441415345.79 [main] INFO Index.html user:7805\n",
      "1441415345.8 [main] INFO Index.html user:7705\n",
      "1441415345.8 [main] INFO Index.html user:1223\n",
      "1441415345.8 [main] INFO Index.html user:3948\n",
      "1441415345.81 [main] INFO Index.html user:2508\n",
      "1441415345.81 [main] INFO Index.html user:2738\n",
      "1441415345.81 [main] INFO Index.html user:1470\n",
      "1441415345.81 [main] INFO Index.html user:5587\n",
      "1441415345.81 [main] INFO Index.html user:3368\n",
      "1441415345.81 [main] INFO Index.html user:8322\n",
      "1441415345.82 [main] INFO Index.html user:7083\n",
      "1441415345.82 [main] INFO Index.html user:8159\n",
      "1441415345.82 [main] INFO Index.html user:1834\n",
      "1441415345.82 [main] INFO Index.html user:3949\n",
      "1441415345.82 [main] INFO Index.html user:9937\n",
      "1441415345.83 [main] INFO Index.html user:9578\n",
      "1441415345.83 [main] INFO Index.html user:7815\n",
      "1441415345.83 [main] INFO Index.html user:3353\n",
      "1441415345.83 [main] INFO Index.html user:3526\n",
      "1441415345.83 [main] INFO Index.html user:6029\n",
      "1441415345.83 [main] INFO Index.html user:9297\n",
      "1441415345.83 [main] INFO Index.html user:9920\n",
      "1441415345.83 [main] INFO Index.html user:7390\n",
      "1441415345.84 [main] INFO Index.html user:1949\n",
      "1441415345.84 [main] INFO Index.html user:8437\n",
      "1441415345.84 [main] INFO Index.html user:9746\n",
      "1441415345.84 [main] INFO Index.html user:213\n",
      "1441415345.84 [main] INFO Index.html user:2774\n",
      "1441415345.84 [main] INFO Index.html user:7795\n",
      "1441415345.84 [main] INFO Index.html user:242\n",
      "1441415345.85 [main] INFO Index.html user:2714\n",
      "1441415345.85 [main] INFO Index.html user:3021\n",
      "1441415345.85 [main] INFO Index.html user:4220\n",
      "1441415345.85 [main] INFO Index.html user:7950\n",
      "1441415345.85 [main] INFO Index.html user:997\n",
      "1441415345.85 [main] INFO Index.html user:5231\n",
      "1441415345.85 [main] INFO Index.html user:8486\n",
      "1441415345.86 [main] INFO Index.html user:6437\n",
      "1441415345.86 [main] INFO Index.html user:9731\n",
      "1441415345.86 [main] INFO Index.html user:2425\n",
      "1441415345.86 [main] INFO Index.html user:7839\n",
      "1441415345.86 [main] INFO Index.html user:2198\n",
      "1441415345.86 [main] INFO Index.html user:3301\n",
      "1441415345.86 [main] INFO Index.html user:7625\n",
      "1441415345.87 [main] INFO Index.html user:7446\n",
      "1441415345.87 [main] INFO Index.html user:6406\n",
      "1441415345.87 [main] INFO Index.html user:5339\n",
      "1441415345.87 [main] INFO Index.html user:6730\n",
      "1441415345.87 [main] INFO Index.html user:1189\n",
      "1441415345.87 [main] INFO Index.html user:7359\n",
      "1441415345.87 [main] INFO Index.html user:385\n",
      "1441415345.88 [main] INFO Index.html user:5990\n",
      "1441415345.88 [main] INFO Index.html user:6089\n",
      "1441415345.88 [main] INFO Index.html user:5973\n",
      "1441415345.88 [main] INFO Index.html user:9256\n",
      "1441415345.88 [main] INFO Index.html user:7651\n",
      "1441415345.88 [main] INFO Index.html user:2971\n",
      "1441415345.88 [main] INFO Index.html user:9385\n",
      "1441415345.88 [main] INFO Index.html user:1639\n",
      "1441415345.89 [main] INFO Index.html user:757\n",
      "1441415345.89 [main] INFO Index.html user:4429\n",
      "1441415345.89 [main] INFO Index.html user:4768\n",
      "1441415345.89 [main] INFO Index.html user:4719\n",
      "1441415345.89 [main] INFO Index.html user:0\n",
      "1441415345.89 [main] INFO Index.html user:1990\n",
      "1441415345.89 [main] INFO Index.html user:5190\n",
      "1441415345.9 [main] INFO Index.html user:9719\n",
      "1441415345.9 [main] INFO Index.html user:37\n",
      "1441415345.9 [main] INFO Index.html user:8161\n",
      "1441415345.9 [main] INFO Index.html user:1913\n",
      "1441415345.9 [main] INFO Index.html user:1859\n",
      "1441415345.9 [main] INFO Index.html user:7383\n",
      "1441415345.9 [main] INFO Index.html user:5832\n",
      "1441415345.91 [main] INFO Index.html user:7566\n",
      "1441415345.91 [main] INFO Index.html user:2189\n",
      "1441415345.91 [main] INFO Index.html user:5552\n",
      "1441415345.91 [main] INFO Index.html user:5468\n",
      "1441415345.91 [main] INFO Index.html user:507\n",
      "1441415345.92 [main] INFO Index.html user:7086\n",
      "1441415347.06 [main] INFO Index.html user:3462\n",
      "1441415347.06 [main] INFO Index.html user:9112\n",
      "1441415347.06 [main] INFO Index.html user:5613\n",
      "1441415347.07 [main] INFO Index.html user:6096\n",
      "1441415347.07 [main] INFO Index.html user:4771\n",
      "1441415347.07 [main] INFO Index.html user:5839\n",
      "1441415347.07 [main] INFO Index.html user:1935\n",
      "1441415347.07 [main] INFO Index.html user:5295\n",
      "1441415347.07 [main] INFO Index.html user:2189\n",
      "1441415347.07 [main] INFO Index.html user:1794\n",
      "1441415347.08 [main] INFO Index.html user:5214\n",
      "1441415347.08 [main] INFO Index.html user:231\n",
      "1441415347.08 [main] INFO Index.html user:6779\n",
      "1441415347.08 [main] INFO Index.html user:5657\n",
      "1441415347.08 [main] INFO Index.html user:3402\n",
      "1441415347.08 [main] INFO Index.html user:7359\n",
      "1441415347.09 [main] INFO Index.html user:5839\n",
      "1441415347.09 [main] INFO Index.html user:8255\n",
      "1441415347.09 [main] INFO Index.html user:8059\n",
      "1441415347.09 [main] INFO Index.html user:8508\n",
      "1441415347.09 [main] INFO Index.html user:7849\n",
      "1441415347.09 [main] INFO Index.html user:2070\n",
      "1441415347.1 [main] INFO Index.html user:8433\n",
      "1441415347.1 [main] INFO Index.html user:6569\n",
      "1441415347.1 [main] INFO Index.html user:8301\n",
      "1441415347.1 [main] INFO Index.html user:779\n",
      "1441415347.1 [main] INFO Index.html user:6354\n",
      "1441415347.11 [main] INFO Index.html user:6417\n",
      "1441415347.11 [main] INFO Index.html user:5191\n",
      "1441415347.11 [main] INFO Index.html user:6709\n",
      "1441415347.11 [main] INFO Index.html user:8429\n",
      "1441415347.11 [main] INFO Index.html user:975\n",
      "1441415347.11 [main] INFO Index.html user:3971\n",
      "1441415347.11 [main] INFO Index.html user:1228\n",
      "1441415347.12 [main] INFO Index.html user:6663\n",
      "1441415347.12 [main] INFO Index.html user:7209\n",
      "1441415347.12 [main] INFO Index.html user:6249\n",
      "1441415347.12 [main] INFO Index.html user:2218\n",
      "1441415347.12 [main] INFO Index.html user:6858\n",
      "1441415347.12 [main] INFO Index.html user:9750\n",
      "1441415347.13 [main] INFO Index.html user:67\n",
      "1441415347.13 [main] INFO Index.html user:1578\n",
      "1441415347.13 [main] INFO Index.html user:425\n",
      "1441415347.13 [main] INFO Index.html user:1157\n",
      "1441415347.13 [main] INFO Index.html user:8004\n",
      "1441415347.13 [main] INFO Index.html user:2777\n",
      "1441415347.14 [main] INFO Index.html user:1983\n",
      "1441415347.14 [main] INFO Index.html user:8913\n",
      "1441415347.14 [main] INFO Index.html user:2097\n",
      "1441415347.14 [main] INFO Index.html user:3777\n",
      "1441415347.14 [main] INFO Index.html user:2861\n",
      "1441415347.14 [main] INFO Index.html user:785\n",
      "1441415347.14 [main] INFO Index.html user:936\n",
      "1441415347.15 [main] INFO Index.html user:3319\n",
      "1441415347.15 [main] INFO Index.html user:8009\n",
      "1441415347.15 [main] INFO Index.html user:4907\n",
      "1441415347.15 [main] INFO Index.html user:8968\n",
      "1441415347.15 [main] INFO Index.html user:9878\n",
      "1441415347.15 [main] INFO Index.html user:2874\n",
      "1441415347.15 [main] INFO Index.html user:37\n",
      "1441415347.15 [main] INFO Index.html user:7716\n",
      "1441415347.16 [main] INFO Index.html user:1346\n",
      "1441415347.16 [main] INFO Index.html user:4177\n",
      "1441415347.16 [main] INFO Index.html user:2323\n",
      "1441415347.16 [main] INFO Index.html user:3715\n",
      "1441415347.16 [main] INFO Index.html user:3796\n",
      "1441415347.16 [main] INFO Index.html user:5689\n",
      "1441415347.16 [main] INFO Index.html user:7531\n",
      "1441415347.17 [main] INFO Index.html user:9484\n",
      "1441415347.17 [main] INFO Index.html user:816\n",
      "1441415347.17 [main] INFO Index.html user:4782\n",
      "1441415347.17 [main] INFO Index.html user:9660\n",
      "1441415347.17 [main] INFO Index.html user:212\n",
      "1441415347.17 [main] INFO Index.html user:2820\n",
      "1441415347.17 [main] INFO Index.html user:2003\n",
      "1441415347.17 [main] INFO Index.html user:2718\n",
      "1441415347.18 [main] INFO Index.html user:4650\n",
      "1441415347.18 [main] INFO Index.html user:6812\n",
      "1441415347.18 [main] INFO Index.html user:1392\n",
      "1441415347.18 [main] INFO Index.html user:48\n",
      "1441415347.18 [main] INFO Index.html user:6065\n",
      "1441415347.18 [main] INFO Index.html user:1693\n",
      "1441415347.18 [main] INFO Index.html user:160\n",
      "1441415347.19 [main] INFO Index.html user:825\n",
      "1441415347.19 [main] INFO Index.html user:3628\n",
      "1441415347.19 [main] INFO Index.html user:1116\n",
      "1441415347.19 [main] INFO Index.html user:8998\n",
      "1441415347.19 [main] INFO Index.html user:720\n",
      "1441415347.19 [main] INFO Index.html user:9976\n",
      "1441415347.19 [main] INFO Index.html user:4336\n",
      "1441415347.2 [main] INFO Index.html user:1404\n",
      "1441415347.2 [main] INFO Index.html user:9111\n",
      "1441415347.2 [main] INFO Index.html user:8260\n",
      "1441415347.2 [main] INFO Index.html user:3844\n",
      "1441415347.2 [main] INFO Index.html user:1505\n",
      "1441415347.2 [main] INFO Index.html user:8246\n",
      "1441415347.2 [main] INFO Index.html user:8286\n",
      "1441415347.21 [main] INFO Index.html user:726\n",
      "1441415347.21 [main] INFO Index.html user:5794\n",
      "1441415347.21 [main] INFO Index.html user:3064\n"
     ]
    },
    {
     "ename": "KeyboardInterrupt",
     "evalue": "",
     "output_type": "error",
     "traceback": [
      "\u001b[0;31m---------------------------------------------------------------------------\u001b[0m",
      "\u001b[0;31mKeyboardInterrupt\u001b[0m                         Traceback (most recent call last)",
      "\u001b[0;32m<ipython-input-10-65484d2eafdc>\u001b[0m in \u001b[0;36m<module>\u001b[0;34m()\u001b[0m\n\u001b[0;32m----> 1\u001b[0;31m \u001b[0;32mfor\u001b[0m \u001b[0mm\u001b[0m \u001b[0;32min\u001b[0m \u001b[0mconsumer\u001b[0m\u001b[0;34m:\u001b[0m\u001b[0;34m\u001b[0m\u001b[0m\n\u001b[0m\u001b[1;32m      2\u001b[0m     \u001b[0;32mprint\u001b[0m \u001b[0mm\u001b[0m\u001b[0;34m.\u001b[0m\u001b[0mvalue\u001b[0m\u001b[0;34m\u001b[0m\u001b[0m\n",
      "\u001b[0;32m/Users/jdennison/anaconda/envs/py2/lib/python2.7/site-packages/pykafka/simpleconsumer.pyc\u001b[0m in \u001b[0;36m__iter__\u001b[0;34m(self)\u001b[0m\n\u001b[1;32m    275\u001b[0m         \u001b[0;34m\"\"\"Yield an infinite stream of messages until the consumer times out\"\"\"\u001b[0m\u001b[0;34m\u001b[0m\u001b[0m\n\u001b[1;32m    276\u001b[0m         \u001b[0;32mwhile\u001b[0m \u001b[0mTrue\u001b[0m\u001b[0;34m:\u001b[0m\u001b[0;34m\u001b[0m\u001b[0m\n\u001b[0;32m--> 277\u001b[0;31m             \u001b[0mmessage\u001b[0m \u001b[0;34m=\u001b[0m \u001b[0mself\u001b[0m\u001b[0;34m.\u001b[0m\u001b[0mconsume\u001b[0m\u001b[0;34m(\u001b[0m\u001b[0mblock\u001b[0m\u001b[0;34m=\u001b[0m\u001b[0mTrue\u001b[0m\u001b[0;34m)\u001b[0m\u001b[0;34m\u001b[0m\u001b[0m\n\u001b[0m\u001b[1;32m    278\u001b[0m             \u001b[0;32mif\u001b[0m \u001b[0;32mnot\u001b[0m \u001b[0mmessage\u001b[0m\u001b[0;34m:\u001b[0m\u001b[0;34m\u001b[0m\u001b[0m\n\u001b[1;32m    279\u001b[0m                 \u001b[0;32mraise\u001b[0m \u001b[0mStopIteration\u001b[0m\u001b[0;34m\u001b[0m\u001b[0m\n",
      "\u001b[0;32m/Users/jdennison/anaconda/envs/py2/lib/python2.7/site-packages/pykafka/simpleconsumer.pyc\u001b[0m in \u001b[0;36mconsume\u001b[0;34m(self, block)\u001b[0m\n\u001b[1;32m    294\u001b[0m \u001b[0;34m\u001b[0m\u001b[0m\n\u001b[1;32m    295\u001b[0m         \u001b[0;32mwhile\u001b[0m \u001b[0mTrue\u001b[0m\u001b[0;34m:\u001b[0m\u001b[0;34m\u001b[0m\u001b[0m\n\u001b[0;32m--> 296\u001b[0;31m             \u001b[0;32mif\u001b[0m \u001b[0mself\u001b[0m\u001b[0;34m.\u001b[0m\u001b[0m_messages_arrived\u001b[0m\u001b[0;34m.\u001b[0m\u001b[0macquire\u001b[0m\u001b[0;34m(\u001b[0m\u001b[0mblocking\u001b[0m\u001b[0;34m=\u001b[0m\u001b[0mblock\u001b[0m\u001b[0;34m,\u001b[0m \u001b[0mtimeout\u001b[0m\u001b[0;34m=\u001b[0m\u001b[0mtimeout\u001b[0m\u001b[0;34m)\u001b[0m\u001b[0;34m:\u001b[0m\u001b[0;34m\u001b[0m\u001b[0m\n\u001b[0m\u001b[1;32m    297\u001b[0m                 \u001b[0;31m# by passing through this semaphore, we know that at\u001b[0m\u001b[0;34m\u001b[0m\u001b[0;34m\u001b[0m\u001b[0m\n\u001b[1;32m    298\u001b[0m                 \u001b[0;31m# least one message is waiting in some queue.\u001b[0m\u001b[0;34m\u001b[0m\u001b[0;34m\u001b[0m\u001b[0m\n",
      "\u001b[0;32m/Users/jdennison/anaconda/envs/py2/lib/python2.7/site-packages/pykafka/utils/compat.pyc\u001b[0m in \u001b[0;36macquire\u001b[0;34m(self, blocking, timeout)\u001b[0m\n\u001b[1;32m     73\u001b[0m                             \u001b[0;32mif\u001b[0m \u001b[0mtimeout\u001b[0m \u001b[0;34m<=\u001b[0m \u001b[0;36m0\u001b[0m\u001b[0;34m:\u001b[0m\u001b[0;34m\u001b[0m\u001b[0m\n\u001b[1;32m     74\u001b[0m                                 \u001b[0;32mbreak\u001b[0m\u001b[0;34m\u001b[0m\u001b[0m\n\u001b[0;32m---> 75\u001b[0;31m                     \u001b[0mself\u001b[0m\u001b[0;34m.\u001b[0m\u001b[0m_cond\u001b[0m\u001b[0;34m.\u001b[0m\u001b[0mwait\u001b[0m\u001b[0;34m(\u001b[0m\u001b[0mtimeout\u001b[0m\u001b[0;34m)\u001b[0m\u001b[0;34m\u001b[0m\u001b[0m\n\u001b[0m\u001b[1;32m     76\u001b[0m                 \u001b[0;32melse\u001b[0m\u001b[0;34m:\u001b[0m\u001b[0;34m\u001b[0m\u001b[0m\n\u001b[1;32m     77\u001b[0m                     \u001b[0mself\u001b[0m\u001b[0;34m.\u001b[0m\u001b[0m_value\u001b[0m \u001b[0;34m-=\u001b[0m \u001b[0;36m1\u001b[0m\u001b[0;34m\u001b[0m\u001b[0m\n",
      "\u001b[0;32m/Users/jdennison/anaconda/envs/py2/lib/python2.7/threading.pyc\u001b[0m in \u001b[0;36mwait\u001b[0;34m(self, timeout)\u001b[0m\n\u001b[1;32m    357\u001b[0m                         \u001b[0;32mbreak\u001b[0m\u001b[0;34m\u001b[0m\u001b[0m\n\u001b[1;32m    358\u001b[0m                     \u001b[0mdelay\u001b[0m \u001b[0;34m=\u001b[0m \u001b[0mmin\u001b[0m\u001b[0;34m(\u001b[0m\u001b[0mdelay\u001b[0m \u001b[0;34m*\u001b[0m \u001b[0;36m2\u001b[0m\u001b[0;34m,\u001b[0m \u001b[0mremaining\u001b[0m\u001b[0;34m,\u001b[0m \u001b[0;36m.05\u001b[0m\u001b[0;34m)\u001b[0m\u001b[0;34m\u001b[0m\u001b[0m\n\u001b[0;32m--> 359\u001b[0;31m                     \u001b[0m_sleep\u001b[0m\u001b[0;34m(\u001b[0m\u001b[0mdelay\u001b[0m\u001b[0;34m)\u001b[0m\u001b[0;34m\u001b[0m\u001b[0m\n\u001b[0m\u001b[1;32m    360\u001b[0m                 \u001b[0;32mif\u001b[0m \u001b[0;32mnot\u001b[0m \u001b[0mgotit\u001b[0m\u001b[0;34m:\u001b[0m\u001b[0;34m\u001b[0m\u001b[0m\n\u001b[1;32m    361\u001b[0m                     \u001b[0;32mif\u001b[0m \u001b[0m__debug__\u001b[0m\u001b[0;34m:\u001b[0m\u001b[0;34m\u001b[0m\u001b[0m\n",
      "\u001b[0;31mKeyboardInterrupt\u001b[0m: "
     ]
    }
   ],
   "source": [
    "for m in consumer:\n",
    "    counter[m.value.split(':')[1]] += 1"
   ]
  },
  {
   "cell_type": "code",
   "execution_count": 25,
   "metadata": {
    "collapsed": false,
    "scrolled": true
   },
   "outputs": [
    {
     "name": "stdout",
     "output_type": "stream",
     "text": [
      "CPU times: user 67 µs, sys: 21 µs, total: 88 µs\n",
      "Wall time: 84.2 µs\n"
     ]
    }
   ],
   "source": [
    "%%time\n",
    "while True:\n",
    "    message = consumer.consume(block=False)\n",
    "    if not message:\n",
    "        break\n",
    "    counter[message.value.split(':')[1]] += 1"
   ]
  },
  {
   "cell_type": "code",
   "execution_count": 17,
   "metadata": {
    "collapsed": true
   },
   "outputs": [],
   "source": [
    "%matplotlib inline\n",
    "import pandas as pd\n"
   ]
  },
  {
   "cell_type": "code",
   "execution_count": 26,
   "metadata": {
    "collapsed": false
   },
   "outputs": [
    {
     "data": {
      "text/plain": [
       "<matplotlib.axes._subplots.AxesSubplot at 0x10dfe60d0>"
      ]
     },
     "execution_count": 26,
     "metadata": {},
     "output_type": "execute_result"
    },
    {
     "data": {
      "image/png": "[encoded data removed]",
      "text/plain": [
       "<matplotlib.figure.Figure at 0x10ad1bf10>"
      ]
     },
     "metadata": {},
     "output_type": "display_data"
    }
   ],
   "source": [
    "pd.Series(counter.values()).hist()"
   ]
  },
  {
   "cell_type": "code",
   "execution_count": null,
   "metadata": {
    "collapsed": true
   },
   "outputs": [],
   "source": []
  }
 ],
 "metadata": {
  "kernelspec": {
   "display_name": "Python 2",
   "language": "python",
   "name": "python2"
  },
  "language_info": {
   "codemirror_mode": {
    "name": "ipython",
    "version": 2
   },
   "file_extension": ".py",
   "mimetype": "text/x-python",
   "name": "python",
   "nbconvert_exporter": "python",
   "pygments_lexer": "ipython2",
   "version": "2.7.10"
  }
 },
 "nbformat": 4,
 "nbformat_minor": 0
}
