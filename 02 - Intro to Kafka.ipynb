{
 "cells": [
  {
   "cell_type": "markdown",
   "metadata": {
    "slideshow": {
     "slide_type": "slide"
    }
   },
   "source": [
    "<h1 align=\"center\">Introduction to Kafka</h1> \n"
   ]
  },
  {
   "cell_type": "markdown",
   "metadata": {
    "slideshow": {
     "slide_type": "slide"
    }
   },
   "source": [
    "![twiiter](/files/assets/twitter.png)"
   ]
  },
  {
   "cell_type": "markdown",
   "metadata": {
    "slideshow": {
     "slide_type": "slide"
    }
   },
   "source": [
    "# At-Least-Once processing vs At-Most-Once\n",
    "\n",
    "- Exactly once delivery is impossible. (No matter what a vendor tells you!)\n",
    "- Again chossing which delivery semantic for your application is domain specific"
   ]
  },
  {
   "cell_type": "markdown",
   "metadata": {
    "slideshow": {
     "slide_type": "slide"
    }
   },
   "source": [
    "# Idempotent Processing\n",
    "\n",
    "- Formally:\n",
    "    ```\n",
    "    f(f(x)) == f(x)\n",
    "    ```\n",
    "- Pratically, you can reprocess events without side effects.\n",
    "- Very useful in designing distributed systems. Not always easy."
   ]
  },
  {
   "cell_type": "markdown",
   "metadata": {
    "slideshow": {
     "slide_type": "slide"
    }
   },
   "source": [
    "## Messaging Basics\n",
    "\n",
    "### Queue\n",
    "\n",
    "![Queue](assets/queue.png)\n",
    "[source](https://access.redhat.com/documentation/en-US/Fuse_Message_Broker/5.4/html/Getting_Started/files/FuseMBStartedKeyJMS.html)"
   ]
  },
  {
   "cell_type": "markdown",
   "metadata": {
    "collapsed": true,
    "slideshow": {
     "slide_type": "slide"
    }
   },
   "source": [
    "### Topic\n",
    "![Topic](assets/topic.png)\n",
    "[source](https://access.redhat.com/documentation/en-US/Fuse_Message_Broker/5.4/html/Getting_Started/files/FuseMBStartedKeyJMS.html)"
   ]
  },
  {
   "cell_type": "markdown",
   "metadata": {
    "slideshow": {
     "slide_type": "slide"
    }
   },
   "source": [
    "### Kafka is a distributed log-centric pub-sub messaging system\n",
    "\n",
    "Design goals:\n",
    "\n",
    "- Distributed fault tolerance\n",
    "- On-disk persistence for all messages\n",
    "- Strong oredering guarantees per partition\n",
    "- Low latency / High throughput"
   ]
  },
  {
   "cell_type": "markdown",
   "metadata": {
    "slideshow": {
     "slide_type": "slide"
    }
   },
   "source": [
    "![Kafka](assets/producer_consumer.png)\n",
    "[source](http://kafka.apache.org/documentation.html)"
   ]
  },
  {
   "cell_type": "markdown",
   "metadata": {
    "slideshow": {
     "slide_type": "slide"
    }
   },
   "source": [
    "![Kafka](assets/log_anatomy.png)\n",
    "[source](http://kafka.apache.org/documentation.html)"
   ]
  },
  {
   "cell_type": "markdown",
   "metadata": {
    "slideshow": {
     "slide_type": "slide"
    }
   },
   "source": [
    "![Kafka](assets/partition_read.png)\n",
    "[source](http://www.slideshare.net/JayKreps1/i-32858698)"
   ]
  },
  {
   "cell_type": "markdown",
   "metadata": {
    "slideshow": {
     "slide_type": "slide"
    }
   },
   "source": [
    "Important notes:\n",
    "    \n",
    "- Consumers pull, kafka does not push\n",
    "    - Each consumer can consume at its own rate\n",
    "- Ordering guarantees per partition\n",
    "    - Max parallelism set by max # of partitions\n",
    "    - Set key of message to ensure data locality within a partition"
   ]
  },
  {
   "cell_type": "markdown",
   "metadata": {
    "slideshow": {
     "slide_type": "slide"
    }
   },
   "source": [
    "Further topics:\n",
    "    \n",
    "- Log compaction\n",
    "- Replicas\n",
    "- Consumer groups\n",
    "\n",
    "[see docs](http://kafka.apache.org/documentation.html)"
   ]
  },
  {
   "cell_type": "code",
   "execution_count": null,
   "metadata": {
    "collapsed": true
   },
   "outputs": [],
   "source": []
  }
 ],
 "metadata": {
  "celltoolbar": "Slideshow",
  "kernelspec": {
   "display_name": "Python 2",
   "language": "python",
   "name": "python2"
  },
  "language_info": {
   "codemirror_mode": {
    "name": "ipython",
    "version": 2
   },
   "file_extension": ".py",
   "mimetype": "text/x-python",
   "name": "python",
   "nbconvert_exporter": "python",
   "pygments_lexer": "ipython2",
   "version": "2.7.10"
  }
 },
 "nbformat": 4,
 "nbformat_minor": 0
}
