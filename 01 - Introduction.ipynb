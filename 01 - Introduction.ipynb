{
 "cells": [
  {
   "cell_type": "markdown",
   "metadata": {
    "slideshow": {
     "slide_type": "slide"
    }
   },
   "source": [
    "# Introduction to Real-time Analytics\n",
    "\n",
    "September 2015\n",
    "\n",
    "- Mark Hu\n",
    "- John Dennison\n",
    "\n"
   ]
  },
  {
   "cell_type": "markdown",
   "metadata": {
    "slideshow": {
     "slide_type": "slide"
    }
   },
   "source": [
    "## What should I get out of this talk?\n",
    "\n",
    "- \n",
    "A starting point for understanding the tradeoffs and design considerations in building distributed real time analytic systems. "
   ]
  },
  {
   "cell_type": "markdown",
   "metadata": {
    "slideshow": {
     "slide_type": "slide"
    }
   },
   "source": [
    "The main sections will be:\n",
    "    \n",
    "- Intro to docker.\n",
    "- Messaging and Kafka\n",
    "- Coding\n",
    "- Redis\n",
    "- Review of Metrics\n",
    "- ELK\n",
    "- Production Setting"
   ]
  },
  {
   "cell_type": "markdown",
   "metadata": {
    "collapsed": true,
    "slideshow": {
     "slide_type": "notes"
    }
   },
   "source": [
    "\n",
    "Each topic or technology we are going to touch today deserves a talk for itself. We are going to give you an working overview and hope to expose you to a breadth of topics. We aim to give you a good starting spot for your further investigation.\n",
    "\n",
    "\n",
    "You will leave with a working example of a realtime processing system and better understanding of the components that make up such a stack. Most importantly I hope for you learn some of the tradeoffs and sometimes competing factors that underlie any such system."
   ]
  },
  {
   "cell_type": "markdown",
   "metadata": {
    "slideshow": {
     "slide_type": "slide"
    }
   },
   "source": [
    "# What is \"Real-time\"?\n",
    "\n",
    "- Means different things to different people. \n",
    "    - High-Frequency trader vs Log Aggregation SAS.\n",
    "- Latency is the core concept but domain specific."
   ]
  },
  {
   "cell_type": "markdown",
   "metadata": {
    "collapsed": true,
    "slideshow": {
     "slide_type": "slide"
    }
   },
   "source": [
    "# Real-time == Distributed == Hard\n",
    "\n",
    "- Any realtime processing system with availiblily, speed or throughput requirements will be **distributed**\n",
    "- **Distributed systems are hard** \n",
    "- Run from anyone who says otherwise\n",
    "    \n",
    "- In a sense this talk will be about distributed systems"
   ]
  },
  {
   "cell_type": "markdown",
   "metadata": {
    "collapsed": true,
    "slideshow": {
     "slide_type": "slide"
    }
   },
   "source": [
    "# Is it worth it?\n",
    "\n",
    "Make sure the reduction in latency is important to your use case. Can you get away with a batch system?"
   ]
  }
 ],
 "metadata": {
  "celltoolbar": "Slideshow",
  "kernelspec": {
   "display_name": "Python 2",
   "language": "python",
   "name": "python2"
  },
  "language_info": {
   "codemirror_mode": {
    "name": "ipython",
    "version": 2
   },
   "file_extension": ".py",
   "mimetype": "text/x-python",
   "name": "python",
   "nbconvert_exporter": "python",
   "pygments_lexer": "ipython2",
   "version": "2.7.10"
  }
 },
 "nbformat": 4,
 "nbformat_minor": 0
}
