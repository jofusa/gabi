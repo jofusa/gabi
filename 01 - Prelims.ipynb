{
 "cells": [
  {
   "cell_type": "markdown",
   "metadata": {
    "slideshow": {
     "slide_type": "slide"
    }
   },
   "source": [
    "# Introduction to Realtime Analytics\n",
    "\n",
    "September 2015\n",
    "\n",
    "- Mark Hu\n",
    "- John Dennison"
   ]
  },
  {
   "cell_type": "markdown",
   "metadata": {
    "slideshow": {
     "slide_type": "notes"
    }
   },
   "source": [
    "# Notes\n",
    "\n",
    "Things to cover:\n",
    "\n",
    "    - Do you really need real time? Standing up and keeping up a realtime systems is hard. The decrease in latency needs to valuable to your organization. Can it be done off-line in batch? Spend a slide on scaring them, this is not for the faint of heart.\n",
    "    - Aproxomiate vs Exact -> relation to probabilistic data structures  \n",
    "    - Measure all the things. Metrics, slow points\n",
    "    - Stateless is next to godliness -> horizontal scaling\n",
    "    - Horizontal vs. Vertical scaling\n",
    "    - Introduction to kafka. Basic design and primitives.\n",
    "    - Message garantees. At least once vs at most once\n",
    "    - Graceful degradation\n",
    "    Maybes:\n",
    "    \n",
    "    - Lamba vs Kappa infrostructure"
   ]
  },
  {
   "cell_type": "markdown",
   "metadata": {
    "slideshow": {
     "slide_type": "slide"
    }
   },
   "source": [
    "## What should I get out of this talk?\n",
    "\n",
    "- \n",
    "A starting point for understanding the tradeoffs and design considerations in building distributed real time analytic systems. "
   ]
  },
  {
   "cell_type": "markdown",
   "metadata": {
    "slideshow": {
     "slide_type": "slide"
    }
   },
   "source": [
    "The main sections will be:\n",
    "    \n",
    "- Our Stack? why\n",
    "- Storm/ELK\n",
    "- Intro to Redis\n",
    "- Intro to Kafka\n",
    "- Coding exercise in Python\n",
    "- ?????"
   ]
  },
  {
   "cell_type": "markdown",
   "metadata": {
    "collapsed": true,
    "slideshow": {
     "slide_type": "slide"
    }
   },
   "source": [
    "\n",
    "Each topic or technology we are going to touch today deserves a talk for itself. We are going to give you an working overview and hope to expose you to a breadth of topics. We aim to give you a good starting spot for your further investigation.\n",
    "\n",
    "\n",
    "You will leave with a working example of a realtime processing system and better understanding of the components that make up such a stack. Most importantly I hope for you learn some of the tradeoffs and sometimes competing factors that underlie any such system."
   ]
  },
  {
   "cell_type": "markdown",
   "metadata": {
    "slideshow": {
     "slide_type": "slide"
    }
   },
   "source": [
    "# What is \"Realtime\"?\n",
    "\n",
    "- Means different things to different people. \n",
    "    - High-Frequency trader vs Log Aggregation SAS.\n",
    "- Latency is the core concept but domain specific."
   ]
  },
  {
   "cell_type": "markdown",
   "metadata": {
    "collapsed": true,
    "slideshow": {
     "slide_type": "slide"
    }
   },
   "source": [
    "# Realtime == Distributed == Hard\n",
    "\n",
    "- Any realtime processing system with availiblily, speed or throughput requirements will be **distributed**\n",
    "- **Distributed systems are hard** \n",
    "- Run from anyone who says otherwise\n",
    "    \n",
    "- In a sense this talk will be about distributed systems"
   ]
  },
  {
   "cell_type": "markdown",
   "metadata": {
    "collapsed": true,
    "slideshow": {
     "slide_type": "slide"
    }
   },
   "source": [
    "# Is it worth it?\n",
    "\n",
    "Make sure the reduction in latency is important to your use case. Can you get away with a batch system?"
   ]
  },
  {
   "cell_type": "markdown",
   "metadata": {
    "collapsed": false,
    "slideshow": {
     "slide_type": "slide"
    }
   },
   "source": [
    "![twiiter](/files/assets/twitter.png)"
   ]
  },
  {
   "cell_type": "markdown",
   "metadata": {
    "slideshow": {
     "slide_type": "slide"
    }
   },
   "source": [
    "# At-Least-Once processing vs At-Most-Once\n",
    "\n",
    "- Exactly once processing is impossible.\n",
    "- Again chossing which delivery semantic for your application is domain specific"
   ]
  },
  {
   "cell_type": "markdown",
   "metadata": {},
   "source": [
    "# Idempotent Processing\n",
    "\n",
    "- Formally:\n",
    "    ```\n",
    "    f(f(x)) == f(x)\n",
    "    ```\n",
    "- Pratically, you can reprocess events without side effects.\n",
    "- Very useful in designing distributed systems. Not always easy."
   ]
  },
  {
   "cell_type": "markdown",
   "metadata": {
    "slideshow": {
     "slide_type": "slide"
    }
   },
   "source": [
    "# Aproxomiate vs Exact\n",
    "\n",
    "Can you produce value with approximate results?\n",
    "\n",
    "If so, a whole class of algorothims/data structures open up to you.\n",
    "\n",
    "Further reading:\n",
    "    - HyperLogLog\n",
    "    - Bloom Filters\n",
    "    - T-digest"
   ]
  },
  {
   "cell_type": "code",
   "execution_count": null,
   "metadata": {
    "collapsed": true,
    "slideshow": {
     "slide_type": "slide"
    }
   },
   "outputs": [],
   "source": []
  }
 ],
 "metadata": {
  "kernelspec": {
   "display_name": "Python 2",
   "language": "python",
   "name": "python2"
  },
  "language_info": {
   "codemirror_mode": {
    "name": "ipython",
    "version": 2
   },
   "file_extension": ".py",
   "mimetype": "text/x-python",
   "name": "python",
   "nbconvert_exporter": "python",
   "pygments_lexer": "ipython2",
   "version": "2.7.10"
  }
 },
 "nbformat": 4,
 "nbformat_minor": 0
}
