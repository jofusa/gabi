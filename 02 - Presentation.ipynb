{
 "cells": [
  {
   "cell_type": "markdown",
   "metadata": {},
   "source": [
    "# Notes\n",
    "\n",
    "Things to cover:\n",
    "\n",
    "    - Do you really need real time? Standing up and keeping up a realtime systems is hard. The decrease in latency needs to valuable to your organization. Can it be done off-line in batch? Spend a slide on scaring them, this is not for the faint of heart.\n",
    "    - Aproxomiate vs Exact -> relation to probabilistic data structures  \n",
    "    - Measure all the things. Metrics, slow points\n",
    "    - Stateless is next to godliness -> horizontal scaling\n",
    "    - Horizontal vs. Vertical scaling\n",
    "    - Introduction to kafka. Basic design and primitives.\n",
    "    - Message garantees. At least once vs at most once\n",
    "    - Graceful degradation\n",
    "    Maybes:\n",
    "    \n",
    "    - Lamba vs Kappa infostructure\n",
    "    "
   ]
  },
  {
   "cell_type": "markdown",
   "metadata": {},
   "source": [
    "## "
   ]
  }
 ],
 "metadata": {
  "kernelspec": {
   "display_name": "Python 2",
   "language": "python",
   "name": "python2"
  },
  "language_info": {
   "codemirror_mode": {
    "name": "ipython",
    "version": 2
   },
   "file_extension": ".py",
   "mimetype": "text/x-python",
   "name": "python",
   "nbconvert_exporter": "python",
   "pygments_lexer": "ipython2",
   "version": "2.7.10"
  }
 },
 "nbformat": 4,
 "nbformat_minor": 0
}
