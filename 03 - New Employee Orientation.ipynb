{
 "cells": [
  {
   "cell_type": "markdown",
   "metadata": {
    "slideshow": {
     "slide_type": "slide"
    }
   },
   "source": [
    "## Welcome to ACME eCommerce LLC \n",
    "\n",
    "This is your first day on the job. Everyone of our empoyees is its own special flower...\n",
    "\n",
    "Now make us money"
   ]
  },
  {
   "cell_type": "markdown",
   "metadata": {
    "collapsed": false,
    "slideshow": {
     "slide_type": "slide"
    }
   },
   "source": [
    "ACME eCommerce is in the business of selling things to people. Your first task is to tell me how many people we had on the site."
   ]
  },
  {
   "cell_type": "markdown",
   "metadata": {
    "slideshow": {
     "slide_type": "slide"
    }
   },
   "source": [
    "## Lets create our first kafka topic\n",
    "Open a bash session inside the kafka image and create a new topic \n",
    "```\n",
    "docker ps | grep kafka\n",
    "# Copy kafka hash\n",
    "docker exec -it DOCKER_CONTAINER_ID /bin/bash\n",
    "\n",
    "# if you only have one kafka running the follwing will work:\n",
    "docker exec -it `docker ps | grep kafka | awk '{print $1}'` /bin/bash\n",
    "# from inside the docker image\n",
    "$KAFKA_HOME/bin/kafka-topics.sh --create --topic visit_log \\\n",
    "    --zookeeper zk --partitions 2 --replication-factor 1\n",
    "\n",
    "```"
   ]
  },
  {
   "cell_type": "markdown",
   "metadata": {
    "slideshow": {
     "slide_type": "slide"
    }
   },
   "source": [
    "Now, lets setup some visit data first. Please open the notebook [03 - Producer](/notebooks/03%20-%20Producer.ipynb) in a new tab and run through all the code there. Then return here."
   ]
  },
  {
   "cell_type": "code",
   "execution_count": 1,
   "metadata": {
    "collapsed": false,
    "scrolled": true,
    "slideshow": {
     "slide_type": "slide"
    }
   },
   "outputs": [],
   "source": [
    "import json\n",
    "import pykafka\n",
    " \n",
    "docker_ip = '192.168.99.100'\n",
    "client = pykafka.KafkaClient(hosts=\"{}:9092\".format(docker_ip))"
   ]
  },
  {
   "cell_type": "code",
   "execution_count": null,
   "metadata": {
    "collapsed": false
   },
   "outputs": [],
   "source": [
    "client.topics"
   ]
  },
  {
   "cell_type": "code",
   "execution_count": null,
   "metadata": {
    "collapsed": false,
    "scrolled": true
   },
   "outputs": [],
   "source": [
    "topic = client.topics['visit_log'] "
   ]
  },
  {
   "cell_type": "code",
   "execution_count": null,
   "metadata": {
    "collapsed": false
   },
   "outputs": [],
   "source": [
    "topic.partitions"
   ]
  },
  {
   "cell_type": "code",
   "execution_count": null,
   "metadata": {
    "collapsed": false
   },
   "outputs": [],
   "source": [
    "c = topic.get_simple_consumer()"
   ]
  },
  {
   "cell_type": "code",
   "execution_count": 37,
   "metadata": {
    "collapsed": true,
    "slideshow": {
     "slide_type": "slide"
    }
   },
   "outputs": [],
   "source": [
    "consumer = topic.get_simple_consumer()"
   ]
  },
  {
   "cell_type": "code",
   "execution_count": null,
   "metadata": {
    "collapsed": false
   },
   "outputs": [],
   "source": [
    "message = consumer.consume(block=False)"
   ]
  },
  {
   "cell_type": "code",
   "execution_count": null,
   "metadata": {
    "collapsed": false,
    "scrolled": true
   },
   "outputs": [],
   "source": [
    "message.offset"
   ]
  },
  {
   "cell_type": "code",
   "execution_count": null,
   "metadata": {
    "collapsed": false,
    "scrolled": true,
    "slideshow": {
     "slide_type": "-"
    }
   },
   "outputs": [],
   "source": [
    "# WE HAVE OUR FIRST MESSAGE.\n",
    "message.value"
   ]
  },
  {
   "cell_type": "markdown",
   "metadata": {
    "slideshow": {
     "slide_type": "slide"
    }
   },
   "source": [
    "We can loop through all the messages with this code. But be careful if you have lots of messages in your topic!"
   ]
  },
  {
   "cell_type": "code",
   "execution_count": 34,
   "metadata": {
    "collapsed": false
   },
   "outputs": [],
   "source": [
    "import statsd\n",
    "c = statsd.StatsClient(docker_ip, 8125)"
   ]
  },
  {
   "cell_type": "code",
   "execution_count": 38,
   "metadata": {
    "collapsed": false
   },
   "outputs": [
    {
     "name": "stdout",
     "output_type": "stream",
     "text": [
      "We counsumed: 500 messages\n",
      "CPU times: user 12.8 ms, sys: 6.01 ms, total: 18.8 ms\n",
      "Wall time: 17.5 ms\n"
     ]
    },
    {
     "name": "stderr",
     "output_type": "stream",
     "text": [
      "Exception in thread Thread-5:\n",
      "Traceback (most recent call last):\n",
      "  File \"/Users/jdennison/anaconda/envs/py2/lib/python2.7/threading.py\", line 810, in __bootstrap_inner\n",
      "    self.run()\n",
      "  File \"/Users/jdennison/anaconda/envs/py2/lib/python2.7/threading.py\", line 763, in run\n",
      "    self.__target(*self.__args, **self.__kwargs)\n",
      "  File \"/Users/jdennison/anaconda/envs/py2/lib/python2.7/site-packages/pykafka/simpleconsumer.py\", line 267, in fetcher\n",
      "    self.fetch()\n",
      "  File \"/Users/jdennison/anaconda/envs/py2/lib/python2.7/site-packages/pykafka/simpleconsumer.py\", line 498, in fetch\n",
      "    min_bytes=self._fetch_min_bytes\n",
      "  File \"/Users/jdennison/anaconda/envs/py2/lib/python2.7/site-packages/pykafka/broker.py\", line 222, in fetch_messages\n",
      "    return future.get(FetchResponse)\n",
      "  File \"/Users/jdennison/anaconda/envs/py2/lib/python2.7/site-packages/pykafka/handlers.py\", line 55, in get\n",
      "    raise self.error\n",
      "timeout: timed out\n",
      "\n",
      "Exception in thread Thread-8:\n",
      "Traceback (most recent call last):\n",
      "  File \"/Users/jdennison/anaconda/envs/py2/lib/python2.7/threading.py\", line 810, in __bootstrap_inner\n",
      "    self.run()\n",
      "  File \"/Users/jdennison/anaconda/envs/py2/lib/python2.7/threading.py\", line 763, in run\n",
      "    self.__target(*self.__args, **self.__kwargs)\n",
      "  File \"/Users/jdennison/anaconda/envs/py2/lib/python2.7/site-packages/pykafka/simpleconsumer.py\", line 267, in fetcher\n",
      "    self.fetch()\n",
      "  File \"/Users/jdennison/anaconda/envs/py2/lib/python2.7/site-packages/pykafka/simpleconsumer.py\", line 498, in fetch\n",
      "    min_bytes=self._fetch_min_bytes\n",
      "  File \"/Users/jdennison/anaconda/envs/py2/lib/python2.7/site-packages/pykafka/broker.py\", line 222, in fetch_messages\n",
      "    return future.get(FetchResponse)\n",
      "  File \"/Users/jdennison/anaconda/envs/py2/lib/python2.7/site-packages/pykafka/handlers.py\", line 55, in get\n",
      "    raise self.error\n",
      "error: [Errno 54] Connection reset by peer\n",
      "Exception in thread Thread-6:\n",
      "Traceback (most recent call last):\n",
      "  File \"/Users/jdennison/anaconda/envs/py2/lib/python2.7/threading.py\", line 810, in __bootstrap_inner\n",
      "    self.run()\n",
      "  File \"/Users/jdennison/anaconda/envs/py2/lib/python2.7/threading.py\", line 763, in run\n",
      "    self.__target(*self.__args, **self.__kwargs)\n",
      "  File \"/Users/jdennison/anaconda/envs/py2/lib/python2.7/site-packages/pykafka/simpleconsumer.py\", line 267, in fetcher\n",
      "    self.fetch()\n",
      "  File \"/Users/jdennison/anaconda/envs/py2/lib/python2.7/site-packages/pykafka/simpleconsumer.py\", line 498, in fetch\n",
      "    min_bytes=self._fetch_min_bytes\n",
      "  File \"/Users/jdennison/anaconda/envs/py2/lib/python2.7/site-packages/pykafka/broker.py\", line 222, in fetch_messages\n",
      "    return future.get(FetchResponse)\n",
      "  File \"/Users/jdennison/anaconda/envs/py2/lib/python2.7/site-packages/pykafka/handlers.py\", line 55, in get\n",
      "    raise self.error\n",
      "error: [Errno 32] Broken pipe\n",
      "\n",
      "\n",
      "Exception in thread Thread-7:\n",
      "Traceback (most recent call last):\n",
      "  File \"/Users/jdennison/anaconda/envs/py2/lib/python2.7/threading.py\", line 810, in __bootstrap_inner\n",
      "    self.run()\n",
      "  File \"/Users/jdennison/anaconda/envs/py2/lib/python2.7/threading.py\", line 763, in run\n",
      "    self.__target(*self.__args, **self.__kwargs)\n",
      "  File \"/Users/jdennison/anaconda/envs/py2/lib/python2.7/site-packages/pykafka/simpleconsumer.py\", line 267, in fetcher\n",
      "    self.fetch()\n",
      "  File \"/Users/jdennison/anaconda/envs/py2/lib/python2.7/site-packages/pykafka/simpleconsumer.py\", line 498, in fetch\n",
      "    min_bytes=self._fetch_min_bytes\n",
      "  File \"/Users/jdennison/anaconda/envs/py2/lib/python2.7/site-packages/pykafka/broker.py\", line 222, in fetch_messages\n",
      "    return future.get(FetchResponse)\n",
      "  File \"/Users/jdennison/anaconda/envs/py2/lib/python2.7/site-packages/pykafka/handlers.py\", line 55, in get\n",
      "    raise self.error\n",
      "error: [Errno 32] Broken pipe\n",
      "\n"
     ]
    }
   ],
   "source": [
    "%%time\n",
    "count = 0\n",
    "\n",
    "while True:\n",
    "    message = consumer.consume(block=False)\n",
    "    if not message:\n",
    "        break\n",
    "    # YOUR CODE HERE\n",
    "    count += 1\n",
    "    c.incr('messages_processed')\n",
    "print \"We counsumed: {} messages\".format(count)"
   ]
  },
  {
   "cell_type": "markdown",
   "metadata": {
    "collapsed": false,
    "slideshow": {
     "slide_type": "slide"
    }
   },
   "source": [
    "So your first coding task. \n",
    "Given this stream answers your bosses first question. How many unique users have visited the site?"
   ]
  },
  {
   "cell_type": "code",
   "execution_count": null,
   "metadata": {
    "collapsed": true
   },
   "outputs": [],
   "source": [
    "consumer = topic.get_simple_consumer()"
   ]
  },
  {
   "cell_type": "code",
   "execution_count": null,
   "metadata": {
    "collapsed": false,
    "scrolled": true
   },
   "outputs": [],
   "source": [
    "%%time\n",
    "\n",
    "while True:\n",
    "    message = consumer.consume(block=False)\n",
    "    if not message:\n",
    "        break\n",
    "    # YOUR CODE HERE"
   ]
  },
  {
   "cell_type": "code",
   "execution_count": null,
   "metadata": {
    "collapsed": false
   },
   "outputs": [],
   "source": [
    "%%time\n",
    "counter = Counter()\n",
    "count = 0\n",
    "\n",
    "while True:\n",
    "    message = consumer.consume(block=False)\n",
    "    if not message:\n",
    "        break\n",
    "    # YOUR CODE HERE\n",
    "    user_id = message.value.split(':')[1]\n",
    "    counter[user_id] += 1\n",
    "    count += 1\n",
    "print \"We counsumed: {} messages\".format(count)"
   ]
  },
  {
   "cell_type": "code",
   "execution_count": null,
   "metadata": {
    "collapsed": false
   },
   "outputs": [],
   "source": [
    "count"
   ]
  },
  {
   "cell_type": "code",
   "execution_count": null,
   "metadata": {
    "collapsed": false
   },
   "outputs": [],
   "source": [
    "%matplotlib inline\n",
    "import pandas as pd\n",
    "pd.Series(counter.values()).value_counts()"
   ]
  },
  {
   "cell_type": "code",
   "execution_count": null,
   "metadata": {
    "collapsed": false
   },
   "outputs": [],
   "source": [
    "import seaborn as sns\n",
    "pd.Series(counter.values()).hist()"
   ]
  },
  {
   "cell_type": "markdown",
   "metadata": {
    "collapsed": true,
    "slideshow": {
     "slide_type": "slide"
    }
   },
   "source": [
    "# Enrichment\n",
    "\n",
    "A common tasks when processing streams is enriching the data.\n",
    "\n",
    "Take for example, how many users do we have per country?\n",
    "\n",
    "We need to enrich the current data because it has no idea of country."
   ]
  },
  {
   "cell_type": "code",
   "execution_count": null,
   "metadata": {
    "collapsed": true,
    "slideshow": {
     "slide_type": "slide"
    }
   },
   "outputs": [],
   "source": [
    "# lets build a lookup table in in-memory\n",
    "import random\n",
    "countries = ['USA', 'USA', 'USA', 'UK', 'UK', 'Canada', 'Germany']\n",
    "user_country_lookup = {str(i): random.choice(countries) for i in range(10000)}"
   ]
  },
  {
   "cell_type": "code",
   "execution_count": null,
   "metadata": {
    "collapsed": true
   },
   "outputs": [],
   "source": [
    "consumer = topic.get_simple_consumer()"
   ]
  },
  {
   "cell_type": "code",
   "execution_count": null,
   "metadata": {
    "collapsed": true
   },
   "outputs": [],
   "source": [
    "from collections import Counter\n",
    "counter = Counter()"
   ]
  },
  {
   "cell_type": "code",
   "execution_count": null,
   "metadata": {
    "collapsed": false,
    "scrolled": false
   },
   "outputs": [],
   "source": [
    "count = 0\n",
    "while True:\n",
    "    message = consumer.consume(block=False)\n",
    "    if not message:\n",
    "        break\n",
    "    # YOUR CODE HERE\n",
    "    user_id = message.value.split(':')[1]\n",
    "    if user_id in user_country_lookup:\n",
    "        counter[user_country_lookup[user_id]] += 1\n",
    "    else:\n",
    "        counter['Unknown'] += 1\n",
    "    count += 1\n",
    "print \"We counsumed: {} messages\".format(count)"
   ]
  },
  {
   "cell_type": "markdown",
   "metadata": {
    "slideshow": {
     "slide_type": "slide"
    }
   },
   "source": [
    "Now ACME eCommerce LLC is an agile, out-side-the-box, Big Data driven, industry disrupting innovation machine. So your not the only one who wants this data...\n",
    "\n",
    "All your wonderful work on data enrichment has gotten around. People are clamoring to get their hands on it.\n",
    "\n",
    "How?\n",
    "\n",
    "First lets create a new kafka topic."
   ]
  },
  {
   "cell_type": "markdown",
   "metadata": {
    "slideshow": {
     "slide_type": "slide"
    }
   },
   "source": [
    "Like we did before open a terminal. Open a bash session inside the kafka image and \n",
    "\n",
    "```\n",
    "# if you only have one kafka running the follwing will work:\n",
    "docker exec -it `docker ps | grep kafka | awk '{print $1}'` /bin/bash\n",
    "\n",
    "$KAFKA_HOME/bin/kafka-topics.sh --create --topic enriched_visit_log \\\n",
    "    --zookeeper zk --partitions 2 --replication-factor 1\n",
    "\n",
    "```"
   ]
  },
  {
   "cell_type": "code",
   "execution_count": null,
   "metadata": {
    "collapsed": false
   },
   "outputs": [],
   "source": [
    "client.topics"
   ]
  },
  {
   "cell_type": "code",
   "execution_count": null,
   "metadata": {
    "collapsed": false
   },
   "outputs": [],
   "source": [
    "enriched_visit_topic = client.topics['enriched_visit_log']\n",
    "enriched_visit_producer = enriched_visit_topic.get_producer()"
   ]
  },
  {
   "cell_type": "code",
   "execution_count": null,
   "metadata": {
    "collapsed": true
   },
   "outputs": [],
   "source": [
    "consumer = topic.get_simple_consumer()"
   ]
  },
  {
   "cell_type": "code",
   "execution_count": null,
   "metadata": {
    "collapsed": true
   },
   "outputs": [],
   "source": [
    "def process_message(message):\n",
    "    \"\"\"\n",
    "    Takes a raw visit message and \n",
    "    returns a dict of attributes about that message.\n",
    "    \"\"\"\n",
    "    message_data = {}\n",
    "    # WRITE YOUR CODE HERE\n",
    "    user_id = message.value.split(':')[1]\n",
    "    message_data['user_id'] = user_id\n",
    "    \n",
    "    return message_data"
   ]
  },
  {
   "cell_type": "code",
   "execution_count": null,
   "metadata": {
    "collapsed": false,
    "scrolled": true
   },
   "outputs": [],
   "source": [
    "process_message(message)"
   ]
  },
  {
   "cell_type": "code",
   "execution_count": null,
   "metadata": {
    "collapsed": false,
    "slideshow": {
     "slide_type": "slide"
    }
   },
   "outputs": [],
   "source": [
    "# now process the topic, saving the results to another topic\n",
    "while True:\n",
    "    message = consumer.consume(block=False)\n",
    "    if not message:\n",
    "        break\n",
    "    # YOUR CODE HERE\n",
    "    enriched_message = process_message(message)\n",
    "    enriched_visit_producer.produce([json.dumps(enriched_message)])"
   ]
  },
  {
   "cell_type": "code",
   "execution_count": null,
   "metadata": {
    "collapsed": true,
    "slideshow": {
     "slide_type": "slide"
    }
   },
   "outputs": [],
   "source": [
    "enriched_visit_consumer = enriched_visit_topic.get_simple_consumer()"
   ]
  },
  {
   "cell_type": "code",
   "execution_count": null,
   "metadata": {
    "collapsed": false
   },
   "outputs": [],
   "source": [
    "message = enriched_visit_consumer.consume(block=False)"
   ]
  },
  {
   "cell_type": "code",
   "execution_count": null,
   "metadata": {
    "collapsed": false
   },
   "outputs": [],
   "source": [
    "message.value"
   ]
  },
  {
   "cell_type": "markdown",
   "metadata": {
    "slideshow": {
     "slide_type": "slide"
    }
   },
   "source": [
    "# Stateful processing\n",
    "\n",
    "What we have built so far is all good but there is a problem... its got all this nasty state."
   ]
  },
  {
   "cell_type": "markdown",
   "metadata": {
    "slideshow": {
     "slide_type": "slide"
    }
   },
   "source": [
    "### What do you mean by state? \n",
    "\n",
    "Examples in sql.\n",
    "\n",
    "**Stateless**:\n",
    "```sql\n",
    "select ltrim(user_id, 0, 1) \n",
    "    from visit_log;\n",
    "```\n",
    "\n",
    "```py\n",
    "# Stream version\n",
    "for message in visit_consumer:\n",
    "    user_id = message.value.split(':')[1]\n",
    "```\n"
   ]
  },
  {
   "cell_type": "markdown",
   "metadata": {
    "slideshow": {
     "slide_type": "slide"
    }
   },
   "source": [
    "**Stateful:**\n",
    "\n",
    "```sql\n",
    "select user_id, count(*) \n",
    "    from visit_log \n",
    "    group by user_id;\n",
    "```\n",
    "\n",
    "```py\n",
    "# Stream version\n",
    "counter = Counter()\n",
    "for message in visit_consumer:\n",
    "    user_id = message.value.split(':')[1]\n",
    "    counter[user_id] += 1\n",
    "```\n"
   ]
  },
  {
   "cell_type": "markdown",
   "metadata": {
    "slideshow": {
     "slide_type": "slide"
    }
   },
   "source": [
    "Lets write this code to simulate real life...\n",
    "\n",
    "```py\n",
    "import random\n",
    "import sys\n",
    "# Stream version\n",
    "counter = Counter()\n",
    "for message in visit_consumer:\n",
    "    user_id = message.value.split(':')[1]\n",
    "    counter[user_id] += 1\n",
    "    \n",
    "    # 1% chance your process is nuked by a gremlin\n",
    "    if random.random() > 0.01:\n",
    "        sys.exit(-1)\n",
    "```\n"
   ]
  },
  {
   "cell_type": "markdown",
   "metadata": {
    "slideshow": {
     "slide_type": "slide"
    }
   },
   "source": [
    "What happened to your counter...\n",
    "\n",
    "and how can we fix this?"
   ]
  },
  {
   "cell_type": "markdown",
   "metadata": {
    "slideshow": {
     "slide_type": "slide"
    }
   },
   "source": [
    "# Redis\n",
    "\n",
    "\"Data Structure as a Service\"\n",
    "\n",
    "Very powerful in-memory database"
   ]
  },
  {
   "cell_type": "code",
   "execution_count": 20,
   "metadata": {
    "collapsed": false
   },
   "outputs": [
    {
     "name": "stderr",
     "output_type": "stream",
     "text": [
      "/Users/jdennison/anaconda/envs/py2/lib/python2.7/site-packages/redis/connection.py:45: UserWarning: redis-py works best with hiredis >= 0.1.4. You're running hiredis 0.1.1. Please consider upgrading.\n",
      "  warnings.warn(msg)\n"
     ]
    }
   ],
   "source": [
    "import redis\n",
    "redis_client = redis.Redis(docker_ip, 6379)"
   ]
  },
  {
   "cell_type": "code",
   "execution_count": 21,
   "metadata": {
    "collapsed": false
   },
   "outputs": [
    {
     "data": {
      "text/plain": [
       "'bar'"
      ]
     },
     "execution_count": 21,
     "metadata": {},
     "output_type": "execute_result"
    }
   ],
   "source": [
    "# Key/value\n",
    "redis_client.set('foo', 'bar')\n",
    "redis_client.get('foo')"
   ]
  },
  {
   "cell_type": "code",
   "execution_count": 25,
   "metadata": {
    "collapsed": false
   },
   "outputs": [
    {
     "data": {
      "text/plain": [
       "{\"['foo']\", 'bar', 'foo'}"
      ]
     },
     "execution_count": 25,
     "metadata": {},
     "output_type": "execute_result"
    }
   ],
   "source": [
    "# Sets\n",
    "redis_client.sadd('test_set', 'foo')\n",
    "redis_client.sadd('test_set', 'bar')\n",
    "redis_client.sadd('test_set', 'bar')\n",
    "\n",
    "redis_client.smembers('test_set')"
   ]
  },
  {
   "cell_type": "code",
   "execution_count": 26,
   "metadata": {
    "collapsed": false
   },
   "outputs": [
    {
     "data": {
      "text/plain": [
       "3"
      ]
     },
     "execution_count": 26,
     "metadata": {},
     "output_type": "execute_result"
    }
   ],
   "source": [
    "redis_client.scard('test_set')"
   ]
  },
  {
   "cell_type": "code",
   "execution_count": 31,
   "metadata": {
    "collapsed": false
   },
   "outputs": [
    {
     "data": {
      "text/plain": [
       "{'baz': '2', 'foo': 'bar'}"
      ]
     },
     "execution_count": 31,
     "metadata": {},
     "output_type": "execute_result"
    }
   ],
   "source": [
    "dict_to_save = {'foo': 'bar', 'baz': 2}\n",
    "redis_client.hmset('test_dict', dict_to_save)\n",
    "redis_client.hgetall('test_dict')"
   ]
  },
  {
   "cell_type": "markdown",
   "metadata": {
    "collapsed": false
   },
   "source": [
    "### LOTS MORE IN REDIS!!!\n",
    "Lets rewrite your first exercise to implement a more stateless processing unit. (hint store the data in redis)"
   ]
  },
  {
   "cell_type": "code",
   "execution_count": null,
   "metadata": {
    "collapsed": true
   },
   "outputs": [],
   "source": [
    "enriched_visit_consumer = enriched_visit_topic.get_simple_consumer()"
   ]
  },
  {
   "cell_type": "code",
   "execution_count": null,
   "metadata": {
    "collapsed": false
   },
   "outputs": [],
   "source": [
    "%%time\n",
    "redis_client = redis.Redis(docker_ip, 6379)\n",
    "\n",
    "while True:\n",
    "    message = enriched_visit_consumer.consume(block=False)\n",
    "    if not message:\n",
    "        break\n",
    "    # YOUR CODE HERE"
   ]
  }
 ],
 "metadata": {
  "celltoolbar": "Slideshow",
  "kernelspec": {
   "display_name": "Python 2",
   "language": "python",
   "name": "python2"
  },
  "language_info": {
   "codemirror_mode": {
    "name": "ipython",
    "version": 2
   },
   "file_extension": ".py",
   "mimetype": "text/x-python",
   "name": "python",
   "nbconvert_exporter": "python",
   "pygments_lexer": "ipython2",
   "version": "2.7.10"
  }
 },
 "nbformat": 4,
 "nbformat_minor": 0
}
