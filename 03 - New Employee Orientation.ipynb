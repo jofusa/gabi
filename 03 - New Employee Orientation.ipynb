{
 "cells": [
  {
   "cell_type": "markdown",
   "metadata": {
    "slideshow": {
     "slide_type": "slide"
    }
   },
   "source": [
    "## Welcome to ACME eCommerce LLC \n",
    "\n",
    "This is your first day on the job. Everyone of our empoyees is its own special flower...\n",
    "\n",
    "Now make us money"
   ]
  },
  {
   "cell_type": "markdown",
   "metadata": {
    "collapsed": false,
    "slideshow": {
     "slide_type": "slide"
    }
   },
   "source": [
    "ACME eCommerce is in the business of selling things to people. Your first task is to tell me how many people we had on the site."
   ]
  },
  {
   "cell_type": "markdown",
   "metadata": {
    "slideshow": {
     "slide_type": "slide"
    }
   },
   "source": [
    "## Lets create our first kafka topic\n",
    "Open a bash session inside the kafka image and create a new topic \n",
    "```\n",
    "docker ps | grep kafka\n",
    "# Copy kafka hash\n",
    "docker exec -it DOCKER_CONTAINER_ID /bin/bash\n",
    "\n",
    "# if you only have one kafka running the follwing will work:\n",
    "docker exec -it `docker ps | grep kafka | awk '{print $1}'` /bin/bash\n",
    "# from inside the docker image\n",
    "$KAFKA_HOME/bin/kafka-topics.sh --create --topic visit_log \\\n",
    "    --zookeeper zk --partitions 2 --replication-factor 1\n",
    "\n",
    "```"
   ]
  },
  {
   "cell_type": "markdown",
   "metadata": {
    "slideshow": {
     "slide_type": "slide"
    }
   },
   "source": [
    "Now, lets setup some visit data first. Please open the notebook [03 - Producer](/notebooks/03%20-%20Producer.ipynb) in a new tab and run through all the code there. Then return here."
   ]
  },
  {
   "cell_type": "code",
   "execution_count": 1,
   "metadata": {
    "collapsed": false,
    "scrolled": true,
    "slideshow": {
     "slide_type": "slide"
    }
   },
   "outputs": [],
   "source": [
    "import json\n",
    "import pykafka\n",
    " \n",
    "docker_ip = '192.168.99.100'\n",
    "client = pykafka.KafkaClient(hosts=\"{}:9092\".format(docker_ip))"
   ]
  },
  {
   "cell_type": "code",
   "execution_count": null,
   "metadata": {
    "collapsed": false
   },
   "outputs": [],
   "source": [
    "client.topics"
   ]
  },
  {
   "cell_type": "code",
   "execution_count": null,
   "metadata": {
    "collapsed": false,
    "scrolled": true
   },
   "outputs": [],
   "source": [
    "topic = client.topics['visit_log'] "
   ]
  },
  {
   "cell_type": "code",
   "execution_count": null,
   "metadata": {
    "collapsed": false
   },
   "outputs": [],
   "source": [
    "topic.partitions"
   ]
  },
  {
   "cell_type": "code",
   "execution_count": null,
   "metadata": {
    "collapsed": false
   },
   "outputs": [],
   "source": [
    "c = topic.get_simple_consumer()"
   ]
  },
  {
   "cell_type": "code",
   "execution_count": null,
   "metadata": {
    "collapsed": true,
    "slideshow": {
     "slide_type": "slide"
    }
   },
   "outputs": [],
   "source": [
    "consumer = topic.get_simple_consumer()"
   ]
  },
  {
   "cell_type": "code",
   "execution_count": null,
   "metadata": {
    "collapsed": false
   },
   "outputs": [],
   "source": [
    "message = consumer.consume(block=False)"
   ]
  },
  {
   "cell_type": "code",
   "execution_count": null,
   "metadata": {
    "collapsed": false,
    "scrolled": true
   },
   "outputs": [],
   "source": [
    "message.offset"
   ]
  },
  {
   "cell_type": "code",
   "execution_count": null,
   "metadata": {
    "collapsed": false,
    "scrolled": true,
    "slideshow": {
     "slide_type": "-"
    }
   },
   "outputs": [],
   "source": [
    "# WE HAVE OUR FIRST MESSAGE.\n",
    "message.value"
   ]
  },
  {
   "cell_type": "markdown",
   "metadata": {
    "slideshow": {
     "slide_type": "slide"
    }
   },
   "source": [
    "We can loop through all the messages with this code. But be careful if you have lots of messages in your topic!"
   ]
  },
  {
   "cell_type": "code",
   "execution_count": null,
   "metadata": {
    "collapsed": false
   },
   "outputs": [],
   "source": [
    "%%time\n",
    "count = 0\n",
    "\n",
    "while True:\n",
    "    message = consumer.consume(block=False)\n",
    "    if not message:\n",
    "        break\n",
    "    # YOUR CODE HERE\n",
    "    count += 1\n",
    "print \"We counsumed: {} messages\".format(count)"
   ]
  },
  {
   "cell_type": "markdown",
   "metadata": {
    "collapsed": false,
    "slideshow": {
     "slide_type": "slide"
    }
   },
   "source": [
    "So your first coding task. \n",
    "Given this stream answers your bosses first question. How many unique users have visited the site?"
   ]
  },
  {
   "cell_type": "code",
   "execution_count": null,
   "metadata": {
    "collapsed": true
   },
   "outputs": [],
   "source": [
    "consumer = topic.get_simple_consumer()"
   ]
  },
  {
   "cell_type": "code",
   "execution_count": null,
   "metadata": {
    "collapsed": false,
    "scrolled": true
   },
   "outputs": [],
   "source": [
    "%%time\n",
    "\n",
    "while True:\n",
    "    message = consumer.consume(block=False)\n",
    "    if not message:\n",
    "        break\n",
    "    # YOUR CODE HERE"
   ]
  },
  {
   "cell_type": "code",
   "execution_count": null,
   "metadata": {
    "collapsed": false
   },
   "outputs": [],
   "source": [
    "%%time\n",
    "counter = Counter()\n",
    "count = 0\n",
    "\n",
    "while True:\n",
    "    message = consumer.consume(block=False)\n",
    "    if not message:\n",
    "        break\n",
    "    # YOUR CODE HERE\n",
    "    user_id = message.value.split(':')[1]\n",
    "    counter[user_id] += 1\n",
    "    count += 1\n",
    "print \"We counsumed: {} messages\".format(count)"
   ]
  },
  {
   "cell_type": "code",
   "execution_count": null,
   "metadata": {
    "collapsed": false
   },
   "outputs": [],
   "source": [
    "count"
   ]
  },
  {
   "cell_type": "code",
   "execution_count": null,
   "metadata": {
    "collapsed": false
   },
   "outputs": [],
   "source": [
    "%matplotlib inline\n",
    "import pandas as pd\n",
    "pd.Series(counter.values()).value_counts()"
   ]
  },
  {
   "cell_type": "code",
   "execution_count": null,
   "metadata": {
    "collapsed": false
   },
   "outputs": [],
   "source": [
    "import seaborn as sns\n",
    "pd.Series(counter.values()).hist()"
   ]
  },
  {
   "cell_type": "markdown",
   "metadata": {
    "collapsed": true,
    "slideshow": {
     "slide_type": "slide"
    }
   },
   "source": [
    "# Enrichment\n",
    "\n",
    "A common tasks when processing streams is enriching the data.\n",
    "\n",
    "Take for example, how many users do we have per country?\n",
    "\n",
    "We need to enrich the current data because it has no idea of country."
   ]
  },
  {
   "cell_type": "code",
   "execution_count": null,
   "metadata": {
    "collapsed": true,
    "slideshow": {
     "slide_type": "slide"
    }
   },
   "outputs": [],
   "source": [
    "# lets build a lookup table in in-memory\n",
    "import random\n",
    "countries = ['USA', 'USA', 'USA', 'UK', 'UK', 'Canada', 'Germany']\n",
    "user_country_lookup = {str(i): random.choice(countries) for i in range(10000)}"
   ]
  },
  {
   "cell_type": "code",
   "execution_count": null,
   "metadata": {
    "collapsed": true
   },
   "outputs": [],
   "source": [
    "consumer = topic.get_simple_consumer()"
   ]
  },
  {
   "cell_type": "code",
   "execution_count": null,
   "metadata": {
    "collapsed": true
   },
   "outputs": [],
   "source": [
    "from collections import Counter\n",
    "counter = Counter()"
   ]
  },
  {
   "cell_type": "code",
   "execution_count": null,
   "metadata": {
    "collapsed": false,
    "scrolled": false
   },
   "outputs": [],
   "source": [
    "count = 0\n",
    "while True:\n",
    "    message = consumer.consume(block=False)\n",
    "    if not message:\n",
    "        break\n",
    "    # YOUR CODE HERE\n",
    "    user_id = message.value.split(':')[1]\n",
    "    if user_id in user_country_lookup:\n",
    "        counter[user_country_lookup[user_id]] += 1\n",
    "    else:\n",
    "        counter['Unknown'] += 1\n",
    "    count += 1\n",
    "print \"We counsumed: {} messages\".format(count)"
   ]
  },
  {
   "cell_type": "code",
   "execution_count": null,
   "metadata": {
    "collapsed": false
   },
   "outputs": [],
   "source": []
  },
  {
   "cell_type": "markdown",
   "metadata": {
    "slideshow": {
     "slide_type": "slide"
    }
   },
   "source": [
    "Now ACME eCommerce LLC is an agile, out-side-the-box, Big Data driven, industry disrupting innovation machine. So your not the only one who wants this data...\n",
    "\n",
    "All your wonderful work on data enrichment has gotten around. People are clamoring to get their hands on it.\n",
    "\n",
    "How?\n",
    "\n",
    "First lets create a new kafka topic."
   ]
  },
  {
   "cell_type": "markdown",
   "metadata": {
    "slideshow": {
     "slide_type": "slide"
    }
   },
   "source": [
    "Like we did before open a terminal. Open a bash session inside the kafka image and \n",
    "\n",
    "```\n",
    "# if you only have one kafka running the follwing will work:\n",
    "docker exec -it `docker ps | grep kafka | awk '{print $1}'` /bin/bash\n",
    "\n",
    "$KAFKA_HOME/bin/kafka-topics.sh --create --topic enriched_visit_log \\\n",
    "    --zookeeper zk --partitions 2 --replication-factor 1\n",
    "\n",
    "```"
   ]
  },
  {
   "cell_type": "code",
   "execution_count": null,
   "metadata": {
    "collapsed": false
   },
   "outputs": [],
   "source": [
    "client.topics"
   ]
  },
  {
   "cell_type": "code",
   "execution_count": null,
   "metadata": {
    "collapsed": false
   },
   "outputs": [],
   "source": [
    "enriched_visit_topic = client.topics['enriched_visit_log']\n",
    "enriched_visit_producer = enriched_visit_topic.get_producer()"
   ]
  },
  {
   "cell_type": "code",
   "execution_count": null,
   "metadata": {
    "collapsed": true
   },
   "outputs": [],
   "source": [
    "consumer = topic.get_simple_consumer()"
   ]
  },
  {
   "cell_type": "code",
   "execution_count": null,
   "metadata": {
    "collapsed": true
   },
   "outputs": [],
   "source": [
    "def process_message(message):\n",
    "    \"\"\"\n",
    "    Takes a raw visit message and \n",
    "    returns a dict of attributes about that message.\n",
    "    \"\"\"\n",
    "    message_data = {}\n",
    "    # WRITE YOUR CODE HERE\n",
    "    user_id = message.value.split(':')[1]\n",
    "    message_data['user_id'] = user_id\n",
    "    \n",
    "    return message_data"
   ]
  },
  {
   "cell_type": "code",
   "execution_count": null,
   "metadata": {
    "collapsed": false,
    "scrolled": true
   },
   "outputs": [],
   "source": [
    "process_message(message)"
   ]
  },
  {
   "cell_type": "code",
   "execution_count": null,
   "metadata": {
    "collapsed": false,
    "slideshow": {
     "slide_type": "slide"
    }
   },
   "outputs": [],
   "source": [
    "# now process the topic, saving the results to another topic\n",
    "while True:\n",
    "    message = consumer.consume(block=False)\n",
    "    if not message:\n",
    "        break\n",
    "    # YOUR CODE HERE\n",
    "    enriched_message = process_message(message)\n",
    "    enriched_visit_producer.produce([json.dumps(enriched_message)])"
   ]
  },
  {
   "cell_type": "code",
   "execution_count": null,
   "metadata": {
    "collapsed": true,
    "slideshow": {
     "slide_type": "slide"
    }
   },
   "outputs": [],
   "source": [
    "enriched_visit_consumer = enriched_visit_topic.get_simple_consumer()"
   ]
  },
  {
   "cell_type": "code",
   "execution_count": null,
   "metadata": {
    "collapsed": false
   },
   "outputs": [],
   "source": [
    "message = enriched_visit_consumer.consume(block=False)"
   ]
  },
  {
   "cell_type": "code",
   "execution_count": null,
   "metadata": {
    "collapsed": false
   },
   "outputs": [],
   "source": [
    "message.value"
   ]
  },
  {
   "cell_type": "markdown",
   "metadata": {
    "slideshow": {
     "slide_type": "slide"
    }
   },
   "source": [
    "# Stateful processing\n",
    "\n",
    "What we have built so far is all good but there is a problem... its got all this nasty state."
   ]
  },
  {
   "cell_type": "markdown",
   "metadata": {
    "slideshow": {
     "slide_type": "slide"
    }
   },
   "source": [
    "### What do you mean by state? \n",
    "\n",
    "Examples in sql.\n",
    "\n",
    "**Stateless**:\n",
    "```sql\n",
    "select ltrim(user_id, 0, 1) \n",
    "    from visit_log;\n",
    "```\n",
    "\n",
    "```py\n",
    "# Stream version\n",
    "for message in visit_consumer:\n",
    "    user_id = message.value.split(':')[1]\n",
    "```\n"
   ]
  },
  {
   "cell_type": "markdown",
   "metadata": {
    "slideshow": {
     "slide_type": "slide"
    }
   },
   "source": [
    "**Stateful:**\n",
    "\n",
    "```sql\n",
    "select user_id, count(*) \n",
    "    from visit_log \n",
    "    group by user_id;\n",
    "```\n",
    "\n",
    "```py\n",
    "# Stream version\n",
    "counter = Counter()\n",
    "for message in visit_consumer:\n",
    "    user_id = message.value.split(':')[1]\n",
    "    counter[user_id] += 1\n",
    "```\n"
   ]
  },
  {
   "cell_type": "markdown",
   "metadata": {
    "slideshow": {
     "slide_type": "slide"
    }
   },
   "source": [
    "Lets write this code to simulate real life...\n",
    "\n",
    "```py\n",
    "import random\n",
    "import sys\n",
    "# Stream version\n",
    "counter = Counter()\n",
    "for message in visit_consumer:\n",
    "    user_id = message.value.split(':')[1]\n",
    "    counter[user_id] += 1\n",
    "    \n",
    "    # 1% chance your process is nuked by a gremlin\n",
    "    if random.random() > 0.01:\n",
    "        sys.exit(-1)\n",
    "```\n"
   ]
  },
  {
   "cell_type": "markdown",
   "metadata": {
    "slideshow": {
     "slide_type": "slide"
    }
   },
   "source": [
    "What happened to your counter...\n",
    "\n",
    "and how can we fix this?"
   ]
  },
  {
   "cell_type": "markdown",
   "metadata": {},
   "source": [
    "# Redis"
   ]
  },
  {
   "cell_type": "code",
   "execution_count": null,
   "metadata": {
    "collapsed": false
   },
   "outputs": [],
   "source": [
    "import redis\n",
    "redis_client = redis.Redis(docker_ip, 6379)"
   ]
  },
  {
   "cell_type": "code",
   "execution_count": null,
   "metadata": {
    "collapsed": false
   },
   "outputs": [],
   "source": []
  },
  {
   "cell_type": "code",
   "execution_count": null,
   "metadata": {
    "collapsed": false
   },
   "outputs": [],
   "source": [
    "%%timeit\n",
    "for i in range(1000):\n",
    "    redis_client.set(i, i)"
   ]
  },
  {
   "cell_type": "code",
   "execution_count": null,
   "metadata": {
    "collapsed": false
   },
   "outputs": [],
   "source": [
    "import os\n",
    "import ipyparallel as ipp\n",
    "\n",
    "rc = ipp.Client()\n",
    "ar = rc[:].apply_async(os.getpid)\n",
    "pid_map = ar.get_dict()"
   ]
  },
  {
   "cell_type": "code",
   "execution_count": null,
   "metadata": {
    "collapsed": false
   },
   "outputs": [],
   "source": [
    "v = rc[:]"
   ]
  },
  {
   "cell_type": "code",
   "execution_count": null,
   "metadata": {
    "collapsed": false
   },
   "outputs": [],
   "source": [
    "v.scatter('keys', range(100000)).get()"
   ]
  },
  {
   "cell_type": "code",
   "execution_count": null,
   "metadata": {
    "collapsed": false
   },
   "outputs": [],
   "source": [
    "%%px\n",
    "keys[0]"
   ]
  },
  {
   "cell_type": "code",
   "execution_count": null,
   "metadata": {
    "collapsed": true
   },
   "outputs": [],
   "source": []
  },
  {
   "cell_type": "code",
   "execution_count": null,
   "metadata": {
    "collapsed": false
   },
   "outputs": [],
   "source": [
    "%%time\n",
    "%%px\n",
    "import redis\n",
    "docker_ip = '192.168.99.100'\n",
    "redis_client = redis.Redis(docker_ip, 6379)\n",
    "pipe = redis_client.pipeline()\n",
    "for i in keys:\n",
    "    pipe.set(i, i)\n",
    "    if i % 10000 == 0:\n",
    "        pipe.execute()\n",
    "        pipe = redis_client.pipeline()\n",
    "\n",
    "_ = pipe.execute()"
   ]
  },
  {
   "cell_type": "code",
   "execution_count": null,
   "metadata": {
    "collapsed": false
   },
   "outputs": [],
   "source": [
    "%%time\n",
    "%%px\n",
    "import redis\n",
    "docker_ip = '192.168.99.100'\n",
    "redis_client = redis.Redis(docker_ip, 6379)\n",
    "for i in keys:\n",
    "    redis_client.set(i, i)"
   ]
  },
  {
   "cell_type": "code",
   "execution_count": null,
   "metadata": {
    "collapsed": false
   },
   "outputs": [],
   "source": [
    "5000000.0 / 38"
   ]
  },
  {
   "cell_type": "code",
   "execution_count": null,
   "metadata": {
    "collapsed": false
   },
   "outputs": [],
   "source": [
    "%%time\n",
    "pipe = redis_client.pipeline()\n",
    "for i in range(10000000):\n",
    "    pipe.set(i, i)\n",
    "    if i % 100000 == 0:\n",
    "        pipe.execute()\n",
    "        pipe = redis_client.pipeline()\n",
    "\n",
    "pipe.execute()"
   ]
  },
  {
   "cell_type": "code",
   "execution_count": null,
   "metadata": {
    "collapsed": false
   },
   "outputs": [],
   "source": [
    "consumer = client.topics['output'].get_simple_consumer()\n"
   ]
  },
  {
   "cell_type": "code",
   "execution_count": null,
   "metadata": {
    "collapsed": false
   },
   "outputs": [],
   "source": [
    "balanced_consumer.consume().value"
   ]
  },
  {
   "cell_type": "code",
   "execution_count": 6,
   "metadata": {
    "collapsed": false
   },
   "outputs": [
    {
     "name": "stderr",
     "output_type": "stream",
     "text": [
      "ERROR:pykafka.cluster:Error discovering offset manager.\n",
      "ERROR:pykafka.cluster:Error discovering offset manager.\n"
     ]
    }
   ],
   "source": [
    "balanced_consumer = client.topics['input'].get_balanced_consumer(\n",
    "    consumer_group='testgroup7',\n",
    "    auto_commit_enable=True,\n",
    "    zookeeper_connect='192.168.99.100:2181'\n",
    ")"
   ]
  },
  {
   "cell_type": "code",
   "execution_count": null,
   "metadata": {
    "collapsed": false
   },
   "outputs": [],
   "source": [
    "%%time\n",
    "\n",
    "count = 0\n",
    "\n",
    "while True:\n",
    "    message = balanced_consumer.consume(block=False)\n",
    "    if not message:\n",
    "        break\n",
    "    # YOUR CODE HERE\n",
    "    count += 1\n",
    "print \"We counsumed: {} messages\".format(count)\n"
   ]
  },
  {
   "cell_type": "code",
   "execution_count": 10,
   "metadata": {
    "collapsed": true
   },
   "outputs": [],
   "source": [
    "balanced_consumer.consume(block=False)"
   ]
  },
  {
   "cell_type": "code",
   "execution_count": 7,
   "metadata": {
    "collapsed": false
   },
   "outputs": [
    {
     "data": {
      "text/plain": [
       "<pykafka.balancedconsumer.BalancedConsumer at 0x10e6a1ea8 (consumer_group=testgroup7)>"
      ]
     },
     "execution_count": 7,
     "metadata": {},
     "output_type": "execute_result"
    }
   ],
   "source": []
  },
  {
   "cell_type": "code",
   "execution_count": null,
   "metadata": {
    "collapsed": true
   },
   "outputs": [],
   "source": []
  }
 ],
 "metadata": {
  "celltoolbar": "Slideshow",
  "kernelspec": {
   "display_name": "Python 2",
   "language": "python",
   "name": "python2"
  },
  "language_info": {
   "codemirror_mode": {
    "name": "ipython",
    "version": 2
   },
   "file_extension": ".py",
   "mimetype": "text/x-python",
   "name": "python",
   "nbconvert_exporter": "python",
   "pygments_lexer": "ipython2",
   "version": "2.7.10"
  }
 },
 "nbformat": 4,
 "nbformat_minor": 0
}
